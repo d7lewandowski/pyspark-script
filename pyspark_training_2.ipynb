{
  "nbformat": 4,
  "nbformat_minor": 0,
  "metadata": {
    "colab": {
      "provenance": [],
      "mount_file_id": "1ndN63Sx1h2T9i2vBwH5g68wFWSqFgwgn",
      "authorship_tag": "ABX9TyPGs+u6TswUXDNcXXqOtLLR",
      "include_colab_link": true
    },
    "kernelspec": {
      "name": "python3",
      "display_name": "Python 3"
    },
    "language_info": {
      "name": "python"
    }
  },
  "cells": [
    {
      "cell_type": "markdown",
      "metadata": {
        "id": "view-in-github",
        "colab_type": "text"
      },
      "source": [
        "<a href=\"https://colab.research.google.com/github/d7lewandowski/pyspark-script/blob/main/pyspark_training_2.ipynb\" target=\"_parent\"><img src=\"https://colab.research.google.com/assets/colab-badge.svg\" alt=\"Open In Colab\"/></a>"
      ]
    },
    {
      "cell_type": "code",
      "execution_count": null,
      "metadata": {
        "colab": {
          "base_uri": "https://localhost:8080/"
        },
        "id": "1FYlApe3NZx-",
        "outputId": "e0a30ec9-b7ae-479f-c19a-48746e76e5b7"
      },
      "outputs": [
        {
          "output_type": "stream",
          "name": "stdout",
          "text": [
            "Collecting pyspark\n",
            "  Downloading pyspark-3.5.1.tar.gz (317.0 MB)\n",
            "\u001b[2K     \u001b[90m━━━━━━━━━━━━━━━━━━━━━━━━━━━━━━━━━━━━━━━━\u001b[0m \u001b[32m317.0/317.0 MB\u001b[0m \u001b[31m2.7 MB/s\u001b[0m eta \u001b[36m0:00:00\u001b[0m\n",
            "\u001b[?25h  Preparing metadata (setup.py) ... \u001b[?25l\u001b[?25hdone\n",
            "Requirement already satisfied: py4j==0.10.9.7 in /usr/local/lib/python3.10/dist-packages (from pyspark) (0.10.9.7)\n",
            "Building wheels for collected packages: pyspark\n",
            "  Building wheel for pyspark (setup.py) ... \u001b[?25l\u001b[?25hdone\n",
            "  Created wheel for pyspark: filename=pyspark-3.5.1-py2.py3-none-any.whl size=317488491 sha256=bfc5ceaeeb525ba9555d7fe3b66d51039a121002bc6a03ab2588f8ff81327ff1\n",
            "  Stored in directory: /root/.cache/pip/wheels/80/1d/60/2c256ed38dddce2fdd93be545214a63e02fbd8d74fb0b7f3a6\n",
            "Successfully built pyspark\n",
            "Installing collected packages: pyspark\n",
            "Successfully installed pyspark-3.5.1\n"
          ]
        }
      ],
      "source": [
        "!pip install pyspark"
      ]
    },
    {
      "cell_type": "markdown",
      "source": [
        "# SQL-style and SQL function on a DataFrame\n",
        "RDD and DataFrame"
      ],
      "metadata": {
        "id": "wLFc-p1iUwgH"
      }
    },
    {
      "cell_type": "code",
      "source": [
        "from pyspark.sql import SparkSession\n",
        "from pyspark.sql import Row"
      ],
      "metadata": {
        "id": "--W2ezGiNkBs"
      },
      "execution_count": null,
      "outputs": []
    },
    {
      "cell_type": "code",
      "source": [
        "# Create a SparkSession\n",
        "spark = SparkSession.builder.appName('SparkSQL').getOrCreate()"
      ],
      "metadata": {
        "id": "gNMouVwyP_J-"
      },
      "execution_count": null,
      "outputs": []
    },
    {
      "cell_type": "code",
      "source": [
        "lines = spark.sparkContext.textFile('./drive/MyDrive/Taming Big Data with Apache Spark and Python - Hands On!/Data/fakefriends.csv')"
      ],
      "metadata": {
        "id": "_iHfwK4KQJVe"
      },
      "execution_count": null,
      "outputs": []
    },
    {
      "cell_type": "code",
      "source": [
        "lines.collect()[:3]"
      ],
      "metadata": {
        "colab": {
          "base_uri": "https://localhost:8080/"
        },
        "id": "dS_sC61URYIF",
        "outputId": "02b13edf-8423-4b99-edec-8116766273f7"
      },
      "execution_count": null,
      "outputs": [
        {
          "output_type": "execute_result",
          "data": {
            "text/plain": [
              "['0,Will,33,385', '1,Jean-Luc,26,2', '2,Hugh,55,221']"
            ]
          },
          "metadata": {},
          "execution_count": 8
        }
      ]
    },
    {
      "cell_type": "code",
      "source": [
        "def mapper(line):\n",
        "  fields = line.split(',')\n",
        "  return Row(ID = int(fields[0]), name = str(fields[1]), age = int(fields[2]), numFriends = int(fields[3]))\n",
        "\n",
        "people = lines.map(mapper)"
      ],
      "metadata": {
        "id": "ANO1QC8FRaO3"
      },
      "execution_count": null,
      "outputs": []
    },
    {
      "cell_type": "code",
      "source": [
        "people.collect()[:3]"
      ],
      "metadata": {
        "colab": {
          "base_uri": "https://localhost:8080/"
        },
        "id": "YW-TMSPbTNDS",
        "outputId": "b6eca765-df67-4b1b-92db-d13716eaf022"
      },
      "execution_count": null,
      "outputs": [
        {
          "output_type": "execute_result",
          "data": {
            "text/plain": [
              "[Row(ID=0, name='Will', age=33, numFriends=385),\n",
              " Row(ID=1, name='Jean-Luc', age=26, numFriends=2),\n",
              " Row(ID=2, name='Hugh', age=55, numFriends=221)]"
            ]
          },
          "metadata": {},
          "execution_count": 10
        }
      ]
    },
    {
      "cell_type": "code",
      "source": [
        "schemaPeople = spark.createDataFrame(people).cache()\n",
        "schemaPeople.createOrReplaceTempView('people')"
      ],
      "metadata": {
        "id": "ICYK50RnTObl"
      },
      "execution_count": null,
      "outputs": []
    },
    {
      "cell_type": "code",
      "source": [
        "teenagers = spark.sql('SELECT * FROM people WHERE age >= 13 AND age <= 19')"
      ],
      "metadata": {
        "id": "IeshEAifTdRt"
      },
      "execution_count": null,
      "outputs": []
    },
    {
      "cell_type": "code",
      "source": [
        "for teen in teenagers.collect():\n",
        "  print(teen)"
      ],
      "metadata": {
        "colab": {
          "base_uri": "https://localhost:8080/"
        },
        "id": "RzjhqU8qToCH",
        "outputId": "6eacd049-33f2-43fc-9d49-b63e760151fb"
      },
      "execution_count": null,
      "outputs": [
        {
          "output_type": "stream",
          "name": "stdout",
          "text": [
            "Row(ID=21, name='Miles', age=19, numFriends=268)\n",
            "Row(ID=52, name='Beverly', age=19, numFriends=269)\n",
            "Row(ID=54, name='Brunt', age=19, numFriends=5)\n",
            "Row(ID=106, name='Beverly', age=18, numFriends=499)\n",
            "Row(ID=115, name='Dukat', age=18, numFriends=397)\n",
            "Row(ID=133, name='Quark', age=19, numFriends=265)\n",
            "Row(ID=136, name='Will', age=19, numFriends=335)\n",
            "Row(ID=225, name='Elim', age=19, numFriends=106)\n",
            "Row(ID=304, name='Will', age=19, numFriends=404)\n",
            "Row(ID=341, name='Data', age=18, numFriends=326)\n",
            "Row(ID=366, name='Keiko', age=19, numFriends=119)\n",
            "Row(ID=373, name='Quark', age=19, numFriends=272)\n",
            "Row(ID=377, name='Beverly', age=18, numFriends=418)\n",
            "Row(ID=404, name='Kasidy', age=18, numFriends=24)\n",
            "Row(ID=409, name='Nog', age=19, numFriends=267)\n",
            "Row(ID=439, name='Data', age=18, numFriends=417)\n",
            "Row(ID=444, name='Keiko', age=18, numFriends=472)\n",
            "Row(ID=492, name='Dukat', age=19, numFriends=36)\n",
            "Row(ID=494, name='Kasidy', age=18, numFriends=194)\n"
          ]
        }
      ]
    },
    {
      "cell_type": "code",
      "source": [
        "schemaPeople.groupBy('age').count().orderBy('age').show()"
      ],
      "metadata": {
        "colab": {
          "base_uri": "https://localhost:8080/"
        },
        "id": "fUgAbRjfTrfB",
        "outputId": "d776447e-adaa-42b2-b482-1d957a37198a"
      },
      "execution_count": null,
      "outputs": [
        {
          "output_type": "stream",
          "name": "stdout",
          "text": [
            "+---+-----+\n",
            "|age|count|\n",
            "+---+-----+\n",
            "| 18|    8|\n",
            "| 19|   11|\n",
            "| 20|    5|\n",
            "| 21|    8|\n",
            "| 22|    7|\n",
            "| 23|   10|\n",
            "| 24|    5|\n",
            "| 25|   11|\n",
            "| 26|   17|\n",
            "| 27|    8|\n",
            "| 28|   10|\n",
            "| 29|   12|\n",
            "| 30|   11|\n",
            "| 31|    8|\n",
            "| 32|   11|\n",
            "| 33|   12|\n",
            "| 34|    6|\n",
            "| 35|    8|\n",
            "| 36|   10|\n",
            "| 37|    9|\n",
            "+---+-----+\n",
            "only showing top 20 rows\n",
            "\n"
          ]
        }
      ]
    },
    {
      "cell_type": "code",
      "source": [
        "spark.stop()"
      ],
      "metadata": {
        "id": "n2m8qm-KT5CJ"
      },
      "execution_count": null,
      "outputs": []
    },
    {
      "cell_type": "markdown",
      "source": [
        "# Using DataFrames instead of RDD's"
      ],
      "metadata": {
        "id": "X3u0oh2SUoSG"
      }
    },
    {
      "cell_type": "code",
      "source": [
        "from pyspark.sql import SparkSession"
      ],
      "metadata": {
        "id": "TR8yfzoRUHk7"
      },
      "execution_count": null,
      "outputs": []
    },
    {
      "cell_type": "code",
      "source": [
        "spark = SparkSession.builder.appName('SparkSQL').getOrCreate()"
      ],
      "metadata": {
        "id": "esAaX1sVWc0U"
      },
      "execution_count": null,
      "outputs": []
    },
    {
      "cell_type": "code",
      "source": [
        "people = spark.read.option('header', 'true').option('inferSchema', 'true').csv(r'./drive/MyDrive/Taming Big Data with Apache Spark and Python - Hands On!/Data/fakefriends-header.csv')"
      ],
      "metadata": {
        "id": "VNudurflWlV-"
      },
      "execution_count": null,
      "outputs": []
    },
    {
      "cell_type": "code",
      "source": [
        "people.show()"
      ],
      "metadata": {
        "colab": {
          "base_uri": "https://localhost:8080/"
        },
        "id": "3N4sAtkkW4lx",
        "outputId": "8aee1193-a3a1-48f2-9a33-7ee11004a9b3"
      },
      "execution_count": null,
      "outputs": [
        {
          "output_type": "stream",
          "name": "stdout",
          "text": [
            "+------+--------+---+-------+\n",
            "|userID|    name|age|friends|\n",
            "+------+--------+---+-------+\n",
            "|     0|    Will| 33|    385|\n",
            "|     1|Jean-Luc| 26|      2|\n",
            "|     2|    Hugh| 55|    221|\n",
            "|     3|  Deanna| 40|    465|\n",
            "|     4|   Quark| 68|     21|\n",
            "|     5|  Weyoun| 59|    318|\n",
            "|     6|  Gowron| 37|    220|\n",
            "|     7|    Will| 54|    307|\n",
            "|     8|  Jadzia| 38|    380|\n",
            "|     9|    Hugh| 27|    181|\n",
            "|    10|     Odo| 53|    191|\n",
            "|    11|     Ben| 57|    372|\n",
            "|    12|   Keiko| 54|    253|\n",
            "|    13|Jean-Luc| 56|    444|\n",
            "|    14|    Hugh| 43|     49|\n",
            "|    15|     Rom| 36|     49|\n",
            "|    16|  Weyoun| 22|    323|\n",
            "|    17|     Odo| 35|     13|\n",
            "|    18|Jean-Luc| 45|    455|\n",
            "|    19|  Geordi| 60|    246|\n",
            "+------+--------+---+-------+\n",
            "only showing top 20 rows\n",
            "\n"
          ]
        }
      ]
    },
    {
      "cell_type": "code",
      "source": [
        "print(people.printSchema())"
      ],
      "metadata": {
        "colab": {
          "base_uri": "https://localhost:8080/"
        },
        "id": "oHpkLlbNW5ua",
        "outputId": "36686b9d-82dd-4f08-c50f-e18877cc4f42"
      },
      "execution_count": null,
      "outputs": [
        {
          "output_type": "stream",
          "name": "stdout",
          "text": [
            "root\n",
            " |-- userID: integer (nullable = true)\n",
            " |-- name: string (nullable = true)\n",
            " |-- age: integer (nullable = true)\n",
            " |-- friends: integer (nullable = true)\n",
            "\n",
            "None\n"
          ]
        }
      ]
    },
    {
      "cell_type": "code",
      "source": [
        "people.select('name').show()"
      ],
      "metadata": {
        "colab": {
          "base_uri": "https://localhost:8080/"
        },
        "id": "-wDW5UJXW-Kg",
        "outputId": "c067eb2b-d6b7-4ca4-ca81-5368b41cf1c7"
      },
      "execution_count": null,
      "outputs": [
        {
          "output_type": "stream",
          "name": "stdout",
          "text": [
            "+--------+\n",
            "|    name|\n",
            "+--------+\n",
            "|    Will|\n",
            "|Jean-Luc|\n",
            "|    Hugh|\n",
            "|  Deanna|\n",
            "|   Quark|\n",
            "|  Weyoun|\n",
            "|  Gowron|\n",
            "|    Will|\n",
            "|  Jadzia|\n",
            "|    Hugh|\n",
            "|     Odo|\n",
            "|     Ben|\n",
            "|   Keiko|\n",
            "|Jean-Luc|\n",
            "|    Hugh|\n",
            "|     Rom|\n",
            "|  Weyoun|\n",
            "|     Odo|\n",
            "|Jean-Luc|\n",
            "|  Geordi|\n",
            "+--------+\n",
            "only showing top 20 rows\n",
            "\n"
          ]
        }
      ]
    },
    {
      "cell_type": "code",
      "source": [
        "people.filter(people.age <= 18).show()"
      ],
      "metadata": {
        "colab": {
          "base_uri": "https://localhost:8080/"
        },
        "id": "WUDhs4-8XD0k",
        "outputId": "7012ccba-d76e-4cab-dfdb-f16c5a519947"
      },
      "execution_count": null,
      "outputs": [
        {
          "output_type": "stream",
          "name": "stdout",
          "text": [
            "+------+-------+---+-------+\n",
            "|userID|   name|age|friends|\n",
            "+------+-------+---+-------+\n",
            "|   106|Beverly| 18|    499|\n",
            "|   115|  Dukat| 18|    397|\n",
            "|   341|   Data| 18|    326|\n",
            "|   377|Beverly| 18|    418|\n",
            "|   404| Kasidy| 18|     24|\n",
            "|   439|   Data| 18|    417|\n",
            "|   444|  Keiko| 18|    472|\n",
            "|   494| Kasidy| 18|    194|\n",
            "+------+-------+---+-------+\n",
            "\n"
          ]
        }
      ]
    },
    {
      "cell_type": "code",
      "source": [
        "people.groupBy('age').count().show()"
      ],
      "metadata": {
        "colab": {
          "base_uri": "https://localhost:8080/"
        },
        "id": "nKiWMtk8XKvI",
        "outputId": "e4da7998-c67f-48b2-ad70-6239fa9f486a"
      },
      "execution_count": null,
      "outputs": [
        {
          "output_type": "stream",
          "name": "stdout",
          "text": [
            "+---+-----+\n",
            "|age|count|\n",
            "+---+-----+\n",
            "| 31|    8|\n",
            "| 65|    5|\n",
            "| 53|    7|\n",
            "| 34|    6|\n",
            "| 28|   10|\n",
            "| 26|   17|\n",
            "| 27|    8|\n",
            "| 44|   12|\n",
            "| 22|    7|\n",
            "| 47|    9|\n",
            "| 52|   11|\n",
            "| 40|   17|\n",
            "| 20|    5|\n",
            "| 57|   12|\n",
            "| 54|   13|\n",
            "| 48|   10|\n",
            "| 19|   11|\n",
            "| 64|   12|\n",
            "| 41|    9|\n",
            "| 43|    7|\n",
            "+---+-----+\n",
            "only showing top 20 rows\n",
            "\n"
          ]
        }
      ]
    },
    {
      "cell_type": "code",
      "source": [
        "people.select(people.name, (people.age + 10).alias('age')).show()"
      ],
      "metadata": {
        "colab": {
          "base_uri": "https://localhost:8080/"
        },
        "id": "43zs4gp2XQ5m",
        "outputId": "507fea75-5b93-4a2e-dcee-35d29e8bbaa3"
      },
      "execution_count": null,
      "outputs": [
        {
          "output_type": "stream",
          "name": "stdout",
          "text": [
            "+--------+---+\n",
            "|    name|age|\n",
            "+--------+---+\n",
            "|    Will| 43|\n",
            "|Jean-Luc| 36|\n",
            "|    Hugh| 65|\n",
            "|  Deanna| 50|\n",
            "|   Quark| 78|\n",
            "|  Weyoun| 69|\n",
            "|  Gowron| 47|\n",
            "|    Will| 64|\n",
            "|  Jadzia| 48|\n",
            "|    Hugh| 37|\n",
            "|     Odo| 63|\n",
            "|     Ben| 67|\n",
            "|   Keiko| 64|\n",
            "|Jean-Luc| 66|\n",
            "|    Hugh| 53|\n",
            "|     Rom| 46|\n",
            "|  Weyoun| 32|\n",
            "|     Odo| 45|\n",
            "|Jean-Luc| 55|\n",
            "|  Geordi| 70|\n",
            "+--------+---+\n",
            "only showing top 20 rows\n",
            "\n"
          ]
        }
      ]
    },
    {
      "cell_type": "code",
      "source": [
        "spark.stop()"
      ],
      "metadata": {
        "id": "oUoBn2WZXWIX"
      },
      "execution_count": null,
      "outputs": []
    },
    {
      "cell_type": "markdown",
      "source": [
        "# Task 1"
      ],
      "metadata": {
        "id": "KlvIplOqcj5z"
      }
    },
    {
      "cell_type": "code",
      "source": [
        "from pyspark.sql import SparkSession\n",
        "from pyspark.sql import functions as func"
      ],
      "metadata": {
        "id": "CBoI1-lBXhG2"
      },
      "execution_count": null,
      "outputs": []
    },
    {
      "cell_type": "code",
      "source": [
        "spark = SparkSession.builder.appName('Sql-spark').getOrCreate()"
      ],
      "metadata": {
        "id": "4dZhIjYJcnXB"
      },
      "execution_count": null,
      "outputs": []
    },
    {
      "cell_type": "code",
      "source": [
        "people = spark.read.option('header', 'true').option('inferSchema', 'true').csv(r'./drive/MyDrive/Taming Big Data with Apache Spark and Python - Hands On!/Data/fakefriends-header.csv')"
      ],
      "metadata": {
        "id": "uhwCdJzSczwX"
      },
      "execution_count": null,
      "outputs": []
    },
    {
      "cell_type": "code",
      "source": [
        "people.show()"
      ],
      "metadata": {
        "colab": {
          "base_uri": "https://localhost:8080/"
        },
        "id": "jetVmn_jc6xy",
        "outputId": "7f476dee-ea19-4ab1-9bcf-beb1cd77ff7c"
      },
      "execution_count": null,
      "outputs": [
        {
          "output_type": "stream",
          "name": "stdout",
          "text": [
            "+------+--------+---+-------+\n",
            "|userID|    name|age|friends|\n",
            "+------+--------+---+-------+\n",
            "|     0|    Will| 33|    385|\n",
            "|     1|Jean-Luc| 26|      2|\n",
            "|     2|    Hugh| 55|    221|\n",
            "|     3|  Deanna| 40|    465|\n",
            "|     4|   Quark| 68|     21|\n",
            "|     5|  Weyoun| 59|    318|\n",
            "|     6|  Gowron| 37|    220|\n",
            "|     7|    Will| 54|    307|\n",
            "|     8|  Jadzia| 38|    380|\n",
            "|     9|    Hugh| 27|    181|\n",
            "|    10|     Odo| 53|    191|\n",
            "|    11|     Ben| 57|    372|\n",
            "|    12|   Keiko| 54|    253|\n",
            "|    13|Jean-Luc| 56|    444|\n",
            "|    14|    Hugh| 43|     49|\n",
            "|    15|     Rom| 36|     49|\n",
            "|    16|  Weyoun| 22|    323|\n",
            "|    17|     Odo| 35|     13|\n",
            "|    18|Jean-Luc| 45|    455|\n",
            "|    19|  Geordi| 60|    246|\n",
            "+------+--------+---+-------+\n",
            "only showing top 20 rows\n",
            "\n"
          ]
        }
      ]
    },
    {
      "cell_type": "code",
      "source": [
        "people.select('age', 'friends').groupBy('age').avg('friends').sort('age').show()"
      ],
      "metadata": {
        "colab": {
          "base_uri": "https://localhost:8080/"
        },
        "id": "aF21wnqLc7-r",
        "outputId": "af5869b0-1aaf-48ab-cad4-bc6d9a8e2ee6"
      },
      "execution_count": null,
      "outputs": [
        {
          "output_type": "stream",
          "name": "stdout",
          "text": [
            "+---+------------------+\n",
            "|age|      avg(friends)|\n",
            "+---+------------------+\n",
            "| 18|           343.375|\n",
            "| 19|213.27272727272728|\n",
            "| 20|             165.0|\n",
            "| 21|           350.875|\n",
            "| 22|206.42857142857142|\n",
            "| 23|             246.3|\n",
            "| 24|             233.8|\n",
            "| 25|197.45454545454547|\n",
            "| 26|242.05882352941177|\n",
            "| 27|           228.125|\n",
            "| 28|             209.1|\n",
            "| 29|215.91666666666666|\n",
            "| 30| 235.8181818181818|\n",
            "| 31|            267.25|\n",
            "| 32| 207.9090909090909|\n",
            "| 33| 325.3333333333333|\n",
            "| 34|             245.5|\n",
            "| 35|           211.625|\n",
            "| 36|             246.6|\n",
            "| 37|249.33333333333334|\n",
            "+---+------------------+\n",
            "only showing top 20 rows\n",
            "\n"
          ]
        }
      ]
    },
    {
      "cell_type": "code",
      "source": [
        "people.select('age', 'friends').groupBy('age').agg(func.round(func.avg('friends'), 2).alias('avg_num_of_friends_by_age')).sort('age').show()"
      ],
      "metadata": {
        "id": "dWy1rWludH4t",
        "colab": {
          "base_uri": "https://localhost:8080/"
        },
        "outputId": "650eb8b8-be35-43b5-f9b1-977d28dde466"
      },
      "execution_count": null,
      "outputs": [
        {
          "output_type": "stream",
          "name": "stdout",
          "text": [
            "+---+-------------------------+\n",
            "|age|avg_num_of_friends_by_age|\n",
            "+---+-------------------------+\n",
            "| 18|                   343.38|\n",
            "| 19|                   213.27|\n",
            "| 20|                    165.0|\n",
            "| 21|                   350.88|\n",
            "| 22|                   206.43|\n",
            "| 23|                    246.3|\n",
            "| 24|                    233.8|\n",
            "| 25|                   197.45|\n",
            "| 26|                   242.06|\n",
            "| 27|                   228.13|\n",
            "| 28|                    209.1|\n",
            "| 29|                   215.92|\n",
            "| 30|                   235.82|\n",
            "| 31|                   267.25|\n",
            "| 32|                   207.91|\n",
            "| 33|                   325.33|\n",
            "| 34|                    245.5|\n",
            "| 35|                   211.63|\n",
            "| 36|                    246.6|\n",
            "| 37|                   249.33|\n",
            "+---+-------------------------+\n",
            "only showing top 20 rows\n",
            "\n"
          ]
        }
      ]
    },
    {
      "cell_type": "code",
      "source": [
        "spark.stop()"
      ],
      "metadata": {
        "id": "O4KoKgo4e_6S"
      },
      "execution_count": null,
      "outputs": []
    }
  ]
}