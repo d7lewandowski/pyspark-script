{
  "nbformat": 4,
  "nbformat_minor": 0,
  "metadata": {
    "colab": {
      "provenance": [],
      "toc_visible": true,
      "authorship_tag": "ABX9TyO3THeY0IdGWjLsp4rp6Iu2",
      "include_colab_link": true
    },
    "kernelspec": {
      "name": "python3",
      "display_name": "Python 3"
    },
    "language_info": {
      "name": "python"
    }
  },
  "cells": [
    {
      "cell_type": "markdown",
      "metadata": {
        "id": "view-in-github",
        "colab_type": "text"
      },
      "source": [
        "<a href=\"https://colab.research.google.com/github/d7lewandowski/pyspark-script/blob/main/dataalgoritmswithpyspark/pyspark_basic_func.ipynb\" target=\"_parent\"><img src=\"https://colab.research.google.com/assets/colab-badge.svg\" alt=\"Open In Colab\"/></a>"
      ]
    },
    {
      "cell_type": "code",
      "execution_count": null,
      "metadata": {
        "colab": {
          "base_uri": "https://localhost:8080/"
        },
        "id": "5_yLlDdER9S9",
        "outputId": "398c7675-4ee5-4d62-8c43-78cc5fa286ef"
      },
      "outputs": [
        {
          "output_type": "stream",
          "name": "stdout",
          "text": [
            "Collecting pyspark\n",
            "  Downloading pyspark-3.5.1.tar.gz (317.0 MB)\n",
            "\u001b[2K     \u001b[90m━━━━━━━━━━━━━━━━━━━━━━━━━━━━━━━━━━━━━━━━\u001b[0m \u001b[32m317.0/317.0 MB\u001b[0m \u001b[31m2.7 MB/s\u001b[0m eta \u001b[36m0:00:00\u001b[0m\n",
            "\u001b[?25h  Preparing metadata (setup.py) ... \u001b[?25l\u001b[?25hdone\n",
            "Requirement already satisfied: py4j==0.10.9.7 in /usr/local/lib/python3.10/dist-packages (from pyspark) (0.10.9.7)\n",
            "Building wheels for collected packages: pyspark\n",
            "  Building wheel for pyspark (setup.py) ... \u001b[?25l\u001b[?25hdone\n",
            "  Created wheel for pyspark: filename=pyspark-3.5.1-py2.py3-none-any.whl size=317488491 sha256=56154bc9b72e001ab6e38e535861365626cbbd6dbbc010a6802ccb4d93bec872\n",
            "  Stored in directory: /root/.cache/pip/wheels/80/1d/60/2c256ed38dddce2fdd93be545214a63e02fbd8d74fb0b7f3a6\n",
            "Successfully built pyspark\n",
            "Installing collected packages: pyspark\n",
            "Successfully installed pyspark-3.5.1\n"
          ]
        }
      ],
      "source": [
        "!pip install pyspark"
      ]
    },
    {
      "cell_type": "code",
      "source": [
        "from pyspark.sql import SparkSession"
      ],
      "metadata": {
        "id": "YJ96W1wbQoql"
      },
      "execution_count": null,
      "outputs": []
    },
    {
      "cell_type": "code",
      "source": [
        "# RDD example"
      ],
      "metadata": {
        "id": "P5zlDfV_feNd"
      },
      "execution_count": null,
      "outputs": []
    },
    {
      "cell_type": "code",
      "source": [
        "spark = SparkSession.builder.master('local').appName('app').getOrCreate()"
      ],
      "metadata": {
        "id": "CIgW0XkAQ_PF"
      },
      "execution_count": null,
      "outputs": []
    },
    {
      "cell_type": "code",
      "source": [
        "tuples = [('A', 7), ('A', 8), ('A', -4),\n",
        " ('B', 3), ('B', 9), ('B', -1),\n",
        " ('C', 1), ('C', 5)]\n",
        "\n",
        "print(tuples)"
      ],
      "metadata": {
        "colab": {
          "base_uri": "https://localhost:8080/"
        },
        "id": "sfeaxnGCR_Y5",
        "outputId": "01829e9d-2e0a-49b4-e908-5e8cf7df1761"
      },
      "execution_count": null,
      "outputs": [
        {
          "output_type": "stream",
          "name": "stdout",
          "text": [
            "[('A', 7), ('A', 8), ('A', -4), ('B', 3), ('B', 9), ('B', -1), ('C', 1), ('C', 5)]\n"
          ]
        }
      ]
    },
    {
      "cell_type": "code",
      "source": [
        "rdd = spark.sparkContext.parallelize(tuples)\n",
        "\n",
        "rdd.collect()"
      ],
      "metadata": {
        "colab": {
          "base_uri": "https://localhost:8080/"
        },
        "id": "DJA3YqMbRR6z",
        "outputId": "169e30e7-3e87-4fbb-995d-b833650319a1"
      },
      "execution_count": null,
      "outputs": [
        {
          "output_type": "execute_result",
          "data": {
            "text/plain": [
              "[('A', 7),\n",
              " ('A', 8),\n",
              " ('A', -4),\n",
              " ('B', 3),\n",
              " ('B', 9),\n",
              " ('B', -1),\n",
              " ('C', 1),\n",
              " ('C', 5)]"
            ]
          },
          "metadata": {},
          "execution_count": 49
        }
      ]
    },
    {
      "cell_type": "code",
      "source": [
        "# drop negative values\n",
        "positives = rdd.filter(lambda x: x[1] > 0)\n",
        "positives.collect()"
      ],
      "metadata": {
        "colab": {
          "base_uri": "https://localhost:8080/"
        },
        "id": "fU7Fb5agRT0s",
        "outputId": "3f8b19a5-e2a5-4eb6-b7f2-2fffba25b610"
      },
      "execution_count": null,
      "outputs": [
        {
          "output_type": "execute_result",
          "data": {
            "text/plain": [
              "[('A', 7), ('A', 8), ('B', 3), ('B', 9), ('C', 1), ('C', 5)]"
            ]
          },
          "metadata": {},
          "execution_count": 10
        }
      ]
    },
    {
      "cell_type": "code",
      "source": [
        "# find sum and avg per key using groupBy()\n",
        "sum_and_avg = positives.groupByKey().mapValues(lambda v: (sum(v), float(sum(v)) / len(v)))"
      ],
      "metadata": {
        "id": "9-mm0XA9Rmw3"
      },
      "execution_count": null,
      "outputs": []
    },
    {
      "cell_type": "code",
      "source": [
        "# print result sum_and_avg\n",
        "sum_and_avg.collect()"
      ],
      "metadata": {
        "colab": {
          "base_uri": "https://localhost:8080/"
        },
        "id": "KXlTnkk6R6zT",
        "outputId": "be1bd14b-e3df-4788-ed4f-dd72de2567a2"
      },
      "execution_count": null,
      "outputs": [
        {
          "output_type": "execute_result",
          "data": {
            "text/plain": [
              "[('A', (15, 7.5)), ('B', (12, 6.0)), ('C', (6, 3.0))]"
            ]
          },
          "metadata": {},
          "execution_count": 19
        }
      ]
    },
    {
      "cell_type": "code",
      "source": [
        "# find sum and avg per key using groupByKey()\n",
        "sum_count  = positives.mapValues(lambda v: (v, 1))\n",
        "\n",
        "sum_count.collect()"
      ],
      "metadata": {
        "colab": {
          "base_uri": "https://localhost:8080/"
        },
        "id": "9xoyg17qSZtG",
        "outputId": "9507f537-6f1f-411d-dec9-453ee049aec4"
      },
      "execution_count": null,
      "outputs": [
        {
          "output_type": "execute_result",
          "data": {
            "text/plain": [
              "[('A', (7, 1)),\n",
              " ('A', (8, 1)),\n",
              " ('B', (3, 1)),\n",
              " ('B', (9, 1)),\n",
              " ('C', (1, 1)),\n",
              " ('C', (5, 1))]"
            ]
          },
          "metadata": {},
          "execution_count": 21
        }
      ]
    },
    {
      "cell_type": "code",
      "source": [
        "# aggregate (sum, count) per key\n",
        "\n",
        "sum_count_agg = sum_count.reduceByKey(lambda x, y: (x[0] + y[0], x[1] + y[1]))\n",
        "sum_count_agg.collect()"
      ],
      "metadata": {
        "colab": {
          "base_uri": "https://localhost:8080/"
        },
        "id": "mpPUEtWwWb7k",
        "outputId": "8a9e2fc8-ff42-43f9-c9c6-39e36d07400b"
      },
      "execution_count": null,
      "outputs": [
        {
          "output_type": "execute_result",
          "data": {
            "text/plain": [
              "[('A', (15, 2)), ('B', (12, 2)), ('C', (6, 2))]"
            ]
          },
          "metadata": {},
          "execution_count": 28
        }
      ]
    },
    {
      "cell_type": "code",
      "source": [
        "# finalize sum and avg per key\n",
        "sum_and_avg = sum_count_agg.mapValues(lambda v: (v[0], float(v[0] / v[1])))\n",
        "\n",
        "sum_and_avg.collect()"
      ],
      "metadata": {
        "colab": {
          "base_uri": "https://localhost:8080/"
        },
        "id": "MTrxEV_KXXXX",
        "outputId": "074ae566-e765-41f4-bf19-aa781941d201"
      },
      "execution_count": null,
      "outputs": [
        {
          "output_type": "execute_result",
          "data": {
            "text/plain": [
              "[('A', (15, 7.5)), ('B', (12, 6.0)), ('C', (6, 3.0))]"
            ]
          },
          "metadata": {},
          "execution_count": 32
        }
      ]
    },
    {
      "cell_type": "code",
      "source": [
        "sum_and_avg.take(3)"
      ],
      "metadata": {
        "colab": {
          "base_uri": "https://localhost:8080/"
        },
        "id": "cjAO_n5KYOt8",
        "outputId": "c8ef268a-d593-4330-fbd9-b1dfaac96c7c"
      },
      "execution_count": null,
      "outputs": [
        {
          "output_type": "execute_result",
          "data": {
            "text/plain": [
              "[('A', (15, 7.5)), ('B', (12, 6.0)), ('C', (6, 3.0))]"
            ]
          },
          "metadata": {},
          "execution_count": 37
        }
      ]
    },
    {
      "cell_type": "code",
      "source": [
        "sum_and_avg.takeSample(False, 1)"
      ],
      "metadata": {
        "colab": {
          "base_uri": "https://localhost:8080/"
        },
        "id": "boslzQ1WcOYy",
        "outputId": "d7a315da-446b-4af1-db45-19ab490da7b0"
      },
      "execution_count": null,
      "outputs": [
        {
          "output_type": "execute_result",
          "data": {
            "text/plain": [
              "[('B', (12, 6.0))]"
            ]
          },
          "metadata": {},
          "execution_count": 48
        }
      ]
    },
    {
      "cell_type": "code",
      "source": [
        "# Dataframe example:"
      ],
      "metadata": {
        "id": "fy0QdJs0c8Dm"
      },
      "execution_count": null,
      "outputs": []
    },
    {
      "cell_type": "code",
      "source": [
        "from pyspark.sql import SparkSession\n",
        "from pyspark.sql.functions import avg, sum"
      ],
      "metadata": {
        "id": "HmXAFLkkfh-Y"
      },
      "execution_count": null,
      "outputs": []
    },
    {
      "cell_type": "code",
      "source": [
        "# Create dataframe using SparkSession\n",
        "spark = SparkSession.builder.appName('demo').getOrCreate()"
      ],
      "metadata": {
        "id": "bhutHA_Zpdpj"
      },
      "execution_count": null,
      "outputs": []
    },
    {
      "cell_type": "code",
      "source": [
        "dept_emps = [(\"Sales\", \"Barb\", 40), (\"Sales\", \"Dan\", 20),\n",
        " (\"IT\", \"Alex\", 22), (\"IT\", \"Jane\", 24),\n",
        " (\"HR\", \"Alex\", 20), (\"HR\", \"Mary\", 30)]\n",
        "df = spark.createDataFrame(dept_emps, ['dept', 'name', 'hours'])"
      ],
      "metadata": {
        "id": "UPzoAN1_p-zU"
      },
      "execution_count": null,
      "outputs": []
    },
    {
      "cell_type": "code",
      "source": [
        "df.show()"
      ],
      "metadata": {
        "colab": {
          "base_uri": "https://localhost:8080/"
        },
        "id": "650cDAIBqE58",
        "outputId": "abd9f16c-8691-4e19-b6fe-a8260ffd0522"
      },
      "execution_count": null,
      "outputs": [
        {
          "output_type": "stream",
          "name": "stdout",
          "text": [
            "+-----+----+-----+\n",
            "| dept|name|hours|\n",
            "+-----+----+-----+\n",
            "|Sales|Barb|   40|\n",
            "|Sales| Dan|   20|\n",
            "|   IT|Alex|   22|\n",
            "|   IT|Jane|   24|\n",
            "|   HR|Alex|   20|\n",
            "|   HR|Mary|   30|\n",
            "+-----+----+-----+\n",
            "\n"
          ]
        }
      ]
    },
    {
      "cell_type": "code",
      "source": [
        "# Group the same depts together, aggregate their hours, and compute an avgrage\n",
        "averages = df.groupBy('dept').agg(avg('hours').alias('avg'), sum('hours').alias('total'))"
      ],
      "metadata": {
        "id": "r3eBgqRCqOD5"
      },
      "execution_count": null,
      "outputs": []
    },
    {
      "cell_type": "code",
      "source": [
        "# Show the results of the final exection\n",
        "averages.show()"
      ],
      "metadata": {
        "colab": {
          "base_uri": "https://localhost:8080/"
        },
        "id": "qSpixi9iqPmO",
        "outputId": "10b1368b-a028-4b42-fb33-1800f226b2b2"
      },
      "execution_count": null,
      "outputs": [
        {
          "output_type": "stream",
          "name": "stdout",
          "text": [
            "+-----+----+-----+\n",
            "| dept| avg|total|\n",
            "+-----+----+-----+\n",
            "|Sales|30.0|   60|\n",
            "|   HR|25.0|   50|\n",
            "|   IT|23.0|   46|\n",
            "+-----+----+-----+\n",
            "\n"
          ]
        }
      ]
    },
    {
      "cell_type": "code",
      "source": [
        "# Creating an RDD from a Collection\n",
        "data = [\n",
        " (\"fox\", 6), (\"dog\", 5), (\"fox\", 3), (\"dog\", 8),\n",
        " (\"cat\", 1), (\"cat\", 2), (\"cat\", 3), (\"cat\", 4)\n",
        "]\n",
        "print(data)\n",
        "\n",
        "spark = SparkSession.builder.master('local').appName('app-name').config('', '').getOrCreate()\n",
        "sc = spark.sparkContext"
      ],
      "metadata": {
        "colab": {
          "base_uri": "https://localhost:8080/"
        },
        "id": "-hdj4Bvyq1UI",
        "outputId": "9b7dbc8a-84f0-4c5f-ded4-18a2b5204bc8"
      },
      "execution_count": null,
      "outputs": [
        {
          "output_type": "stream",
          "name": "stdout",
          "text": [
            "[('fox', 6), ('dog', 5), ('fox', 3), ('dog', 8), ('cat', 1), ('cat', 2), ('cat', 3), ('cat', 4)]\n"
          ]
        }
      ]
    },
    {
      "cell_type": "code",
      "source": [
        "rdd = sc.parallelize(data)\n",
        "rdd.collect()"
      ],
      "metadata": {
        "colab": {
          "base_uri": "https://localhost:8080/"
        },
        "id": "zLpP5_WrsuV7",
        "outputId": "e6b49e7d-c5ca-4814-9f59-914e42ffcb33"
      },
      "execution_count": null,
      "outputs": [
        {
          "output_type": "execute_result",
          "data": {
            "text/plain": [
              "[('fox', 6),\n",
              " ('dog', 5),\n",
              " ('fox', 3),\n",
              " ('dog', 8),\n",
              " ('cat', 1),\n",
              " ('cat', 2),\n",
              " ('cat', 3),\n",
              " ('cat', 4)]"
            ]
          },
          "metadata": {},
          "execution_count": 71
        }
      ]
    },
    {
      "cell_type": "code",
      "source": [
        "rdd.count()"
      ],
      "metadata": {
        "colab": {
          "base_uri": "https://localhost:8080/"
        },
        "id": "yvcJKnaUtBF8",
        "outputId": "2629cb4f-b602-46af-a0d5-8cf6578c5cd2"
      },
      "execution_count": null,
      "outputs": [
        {
          "output_type": "execute_result",
          "data": {
            "text/plain": [
              "8"
            ]
          },
          "metadata": {},
          "execution_count": 72
        }
      ]
    },
    {
      "cell_type": "code",
      "source": [
        "sum_per_key = rdd.reduceByKey(lambda x, y: x + y)\n",
        "\n",
        "sum_per_key.collect()"
      ],
      "metadata": {
        "colab": {
          "base_uri": "https://localhost:8080/"
        },
        "id": "eeJf8nO_tCv7",
        "outputId": "14cbe669-8a60-4680-fbb3-63711db80c23"
      },
      "execution_count": null,
      "outputs": [
        {
          "output_type": "execute_result",
          "data": {
            "text/plain": [
              "[('fox', 9), ('dog', 13), ('cat', 10)]"
            ]
          },
          "metadata": {},
          "execution_count": 77
        }
      ]
    },
    {
      "cell_type": "code",
      "source": [
        "sum_per_key = rdd.reduceByKey(lambda x, y: x + y)\n",
        "\n",
        "sum_per_key.collect()"
      ],
      "metadata": {
        "colab": {
          "base_uri": "https://localhost:8080/"
        },
        "id": "FEpkvt7NtUzU",
        "outputId": "27314aee-51cb-4428-a331-5eae4fc967eb"
      },
      "execution_count": null,
      "outputs": [
        {
          "output_type": "execute_result",
          "data": {
            "text/plain": [
              "[('fox', 9), ('dog', 13), ('cat', 10)]"
            ]
          },
          "metadata": {},
          "execution_count": 86
        }
      ]
    },
    {
      "cell_type": "code",
      "source": [
        "sum_filtered = sum_per_key.filter(lambda x: x[1] > 9)"
      ],
      "metadata": {
        "id": "6KhyWxQNwZCL"
      },
      "execution_count": null,
      "outputs": []
    },
    {
      "cell_type": "code",
      "source": [
        "sum_filtered.collect()"
      ],
      "metadata": {
        "colab": {
          "base_uri": "https://localhost:8080/"
        },
        "id": "zNBdsPeqEFw8",
        "outputId": "2b99a0c1-c46e-4ef5-de9c-cd619c97d922"
      },
      "execution_count": null,
      "outputs": [
        {
          "output_type": "execute_result",
          "data": {
            "text/plain": [
              "[('dog', 13), ('cat', 10)]"
            ]
          },
          "metadata": {},
          "execution_count": 90
        }
      ]
    },
    {
      "cell_type": "code",
      "source": [
        "grouped = rdd.groupByKey()"
      ],
      "metadata": {
        "id": "nZXPkwtnEN7d"
      },
      "execution_count": null,
      "outputs": []
    },
    {
      "cell_type": "code",
      "source": [
        "grouped.collect()"
      ],
      "metadata": {
        "colab": {
          "base_uri": "https://localhost:8080/"
        },
        "id": "3wyzdFtMEi58",
        "outputId": "f485554d-c1af-4992-bd67-bc244593b76c"
      },
      "execution_count": null,
      "outputs": [
        {
          "output_type": "execute_result",
          "data": {
            "text/plain": [
              "[('fox', <pyspark.resultiterable.ResultIterable at 0x7a05a474fbe0>),\n",
              " ('dog', <pyspark.resultiterable.ResultIterable at 0x7a05a474e410>),\n",
              " ('cat', <pyspark.resultiterable.ResultIterable at 0x7a05a474f310>)]"
            ]
          },
          "metadata": {},
          "execution_count": 141
        }
      ]
    },
    {
      "cell_type": "code",
      "source": [
        "\n"
      ],
      "metadata": {
        "colab": {
          "base_uri": "https://localhost:8080/",
          "height": 110
        },
        "id": "r8d2sbHEEkGL",
        "outputId": "d13e613e-65f1-4542-c745-67b573bb5040"
      },
      "execution_count": null,
      "outputs": [
        {
          "output_type": "error",
          "ename": "SyntaxError",
          "evalue": "invalid syntax (<ipython-input-144-062b053f1f82>, line 1)",
          "traceback": [
            "\u001b[0;36m  File \u001b[0;32m\"<ipython-input-144-062b053f1f82>\"\u001b[0;36m, line \u001b[0;32m1\u001b[0m\n\u001b[0;31m    aggredated = grouped.mapValues(lambda (x, y) : (x, list(y))\u001b[0m\n\u001b[0m                                          ^\u001b[0m\n\u001b[0;31mSyntaxError\u001b[0m\u001b[0;31m:\u001b[0m invalid syntax\n"
          ]
        }
      ]
    },
    {
      "cell_type": "code",
      "source": [],
      "metadata": {
        "id": "efhU3uhpH-mt"
      },
      "execution_count": null,
      "outputs": []
    }
  ]
}