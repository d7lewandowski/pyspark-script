{
  "nbformat": 4,
  "nbformat_minor": 0,
  "metadata": {
    "colab": {
      "provenance": [],
      "authorship_tag": "ABX9TyN5KSuaZtosgQ0ZoOSrJRLl",
      "include_colab_link": true
    },
    "kernelspec": {
      "name": "python3",
      "display_name": "Python 3"
    },
    "language_info": {
      "name": "python"
    }
  },
  "cells": [
    {
      "cell_type": "markdown",
      "metadata": {
        "id": "view-in-github",
        "colab_type": "text"
      },
      "source": [
        "<a href=\"https://colab.research.google.com/github/d7lewandowski/pyspark-script/blob/main/dataalgoritmswithpyspark/ETL.ipynb\" target=\"_parent\"><img src=\"https://colab.research.google.com/assets/colab-badge.svg\" alt=\"Open In Colab\"/></a>"
      ]
    },
    {
      "cell_type": "code",
      "execution_count": null,
      "metadata": {
        "colab": {
          "base_uri": "https://localhost:8080/"
        },
        "id": "0pTNk31Qjwsv",
        "outputId": "a40d8e8b-5d19-41f7-bcd8-ab38296ab62c"
      },
      "outputs": [
        {
          "output_type": "stream",
          "name": "stdout",
          "text": [
            "Mounted at /content/drive\n"
          ]
        }
      ],
      "source": [
        "from google.colab import drive\n",
        "drive.mount('/content/drive')"
      ]
    },
    {
      "cell_type": "code",
      "source": [
        "!pip install pyspark"
      ],
      "metadata": {
        "colab": {
          "base_uri": "https://localhost:8080/"
        },
        "id": "6KD0UMkoj_uM",
        "outputId": "ab948442-3c22-4b36-a6d0-8f7e4e312676"
      },
      "execution_count": null,
      "outputs": [
        {
          "output_type": "stream",
          "name": "stdout",
          "text": [
            "Collecting pyspark\n",
            "  Downloading pyspark-3.5.1.tar.gz (317.0 MB)\n",
            "\u001b[2K     \u001b[90m━━━━━━━━━━━━━━━━━━━━━━━━━━━━━━━━━━━━━━━━\u001b[0m \u001b[32m317.0/317.0 MB\u001b[0m \u001b[31m3.9 MB/s\u001b[0m eta \u001b[36m0:00:00\u001b[0m\n",
            "\u001b[?25h  Preparing metadata (setup.py) ... \u001b[?25l\u001b[?25hdone\n",
            "Requirement already satisfied: py4j==0.10.9.7 in /usr/local/lib/python3.10/dist-packages (from pyspark) (0.10.9.7)\n",
            "Building wheels for collected packages: pyspark\n",
            "  Building wheel for pyspark (setup.py) ... \u001b[?25l\u001b[?25hdone\n",
            "  Created wheel for pyspark: filename=pyspark-3.5.1-py2.py3-none-any.whl size=317488491 sha256=74e9bd48fbc49020a909b01100282656b7b4c2362a51e4db1863eb42d2e6541b\n",
            "  Stored in directory: /root/.cache/pip/wheels/80/1d/60/2c256ed38dddce2fdd93be545214a63e02fbd8d74fb0b7f3a6\n",
            "Successfully built pyspark\n",
            "Installing collected packages: pyspark\n",
            "Successfully installed pyspark-3.5.1\n"
          ]
        }
      ]
    },
    {
      "cell_type": "code",
      "source": [
        "from pyspark.sql import SparkSession\n",
        "spark = SparkSession.builder.master('local').appName('ETL').getOrCreate()"
      ],
      "metadata": {
        "id": "NjamPqX3kBb4"
      },
      "execution_count": null,
      "outputs": []
    },
    {
      "cell_type": "markdown",
      "source": [
        "# EXTRACTION (source data)"
      ],
      "metadata": {
        "id": "VbekAg_4sreA"
      }
    },
    {
      "cell_type": "code",
      "source": [
        "input_path = '/content/drive/MyDrive/Colab Pyspark/data/census_2010.json'\n",
        "census_df = spark.read.json(input_path)\n",
        "census_df.count()"
      ],
      "metadata": {
        "colab": {
          "base_uri": "https://localhost:8080/"
        },
        "id": "vSycQ3GEkQK2",
        "outputId": "6cb802c3-dceb-48f6-ad1f-657646b9acd1"
      },
      "execution_count": null,
      "outputs": [
        {
          "output_type": "execute_result",
          "data": {
            "text/plain": [
              "101"
            ]
          },
          "metadata": {},
          "execution_count": 57
        }
      ]
    },
    {
      "cell_type": "code",
      "source": [
        "census_df.printSchema()"
      ],
      "metadata": {
        "colab": {
          "base_uri": "https://localhost:8080/"
        },
        "id": "yV_9KBCtydl3",
        "outputId": "254b16da-fd5b-4ad0-b41a-f047f00fe673"
      },
      "execution_count": null,
      "outputs": [
        {
          "output_type": "stream",
          "name": "stdout",
          "text": [
            "root\n",
            " |-- age: long (nullable = true)\n",
            " |-- females: long (nullable = true)\n",
            " |-- males: long (nullable = true)\n",
            " |-- year: long (nullable = true)\n",
            "\n"
          ]
        }
      ]
    },
    {
      "cell_type": "code",
      "source": [
        "census_df.show(200)"
      ],
      "metadata": {
        "colab": {
          "base_uri": "https://localhost:8080/"
        },
        "id": "zk2fIl76kiII",
        "outputId": "3e8319e0-d916-4f88-d853-9e82b4073d8f"
      },
      "execution_count": null,
      "outputs": [
        {
          "output_type": "stream",
          "name": "stdout",
          "text": [
            "+---+-------+-------+----+\n",
            "|age|females|  males|year|\n",
            "+---+-------+-------+----+\n",
            "|  0|1994141|2085528|2010|\n",
            "|  1|1997991|2087350|2010|\n",
            "|  2|2000746|2088549|2010|\n",
            "|  3|2002756|2089465|2010|\n",
            "|  4|2004366|2090436|2010|\n",
            "|  5|2005925|2091803|2010|\n",
            "|  6|2007781|2093905|2010|\n",
            "|  7|2010281|2097080|2010|\n",
            "|  8|2013771|2101670|2010|\n",
            "|  9|2018603|2108014|2010|\n",
            "| 10|2023289|2114217|2010|\n",
            "| 11|2026352|2118390|2010|\n",
            "| 12|2037286|2132030|2010|\n",
            "| 13|2060100|2159943|2010|\n",
            "| 14|2089651|2195773|2010|\n",
            "| 15|2117689|2229339|2010|\n",
            "| 16|2146942|2263862|2010|\n",
            "| 17|2165852|2285295|2010|\n",
            "| 18|2168175|2285990|2010|\n",
            "| 19|2159571|2272689|2010|\n",
            "| 20|2151448|2259690|2010|\n",
            "| 21|2140926|2244039|2010|\n",
            "| 22|2133510|2229168|2010|\n",
            "| 23|2132897|2218195|2010|\n",
            "| 24|2135789|2208905|2010|\n",
            "| 25|2136497|2197148|2010|\n",
            "| 26|2137711|2185169|2010|\n",
            "| 27|2131362|2167654|2010|\n",
            "| 28|2113361|2142006|2010|\n",
            "| 29|2088593|2111921|2010|\n",
            "| 30|2065883|2083642|2010|\n",
            "| 31|2043293|2055863|2010|\n",
            "| 32|2027525|2034632|2010|\n",
            "| 33|2022761|2023579|2010|\n",
            "| 34|2025969|2020204|2010|\n",
            "| 35|2029981|2018080|2010|\n",
            "| 36|2036269|2018137|2010|\n",
            "| 37|2045241|2022787|2010|\n",
            "| 38|2056401|2032469|2010|\n",
            "| 39|2070132|2046398|2010|\n",
            "| 40|2085229|2061474|2010|\n",
            "| 41|2099423|2076069|2010|\n",
            "| 42|2123189|2098014|2010|\n",
            "| 43|2160806|2130169|2010|\n",
            "| 44|2205936|2167507|2010|\n",
            "| 45|2247630|2201679|2010|\n",
            "| 46|2287688|2233787|2010|\n",
            "| 47|2317309|2256546|2010|\n",
            "| 48|2330869|2265290|2010|\n",
            "| 49|2331572|2262342|2010|\n",
            "| 50|2329647|2256294|2010|\n",
            "| 51|2324721|2247349|2010|\n",
            "| 52|2306106|2223261|2010|\n",
            "| 53|2270038|2179406|2010|\n",
            "| 54|2221350|2121536|2010|\n",
            "| 55|2167706|2059204|2010|\n",
            "| 56|2106460|1989505|2010|\n",
            "| 57|2048896|1924113|2010|\n",
            "| 58|2001049|1869486|2010|\n",
            "| 59|1957350|1819943|2010|\n",
            "| 60|1908602|1765522|2010|\n",
            "| 61|1859542|1710843|2010|\n",
            "| 62|1794846|1642438|2010|\n",
            "| 63|1706899|1553454|2010|\n",
            "| 64|1604801|1452106|2010|\n",
            "| 65|1505088|1353125|2010|\n",
            "| 66|1404227|1253164|2010|\n",
            "| 67|1314295|1164006|2010|\n",
            "| 68|1242906|1092883|2010|\n",
            "| 69|1184673|1034415|2010|\n",
            "| 70|1126180| 975512|2010|\n",
            "| 71|1069608| 918217|2010|\n",
            "| 72|1018530| 865438|2010|\n",
            "| 73| 973223| 817131|2010|\n",
            "| 74| 932810| 772524|2010|\n",
            "| 75| 894650| 730324|2010|\n",
            "| 76| 857499| 690102|2010|\n",
            "| 77| 826480| 651989|2010|\n",
            "| 78| 803299| 615691|2010|\n",
            "| 79| 784354| 580450|2010|\n",
            "| 80| 765337| 546546|2010|\n",
            "| 81| 748315| 514820|2010|\n",
            "| 82| 720459| 478189|2010|\n",
            "| 83| 675331| 433440|2010|\n",
            "| 84| 618894| 383961|2010|\n",
            "| 85| 564268| 336667|2010|\n",
            "| 86| 509684| 290548|2010|\n",
            "| 87| 455116| 247209|2010|\n",
            "| 88| 402148| 208267|2010|\n",
            "| 89| 350911| 173164|2010|\n",
            "| 90| 300043| 139411|2010|\n",
            "| 91| 249925| 107133|2010|\n",
            "| 92| 204661|  80196|2010|\n",
            "| 93| 166201|  60163|2010|\n",
            "| 94| 133397|  45473|2010|\n",
            "| 95| 102645|  32664|2010|\n",
            "| 96|  74056|  22021|2010|\n",
            "| 97|  51337|  13994|2010|\n",
            "| 98|  35778|   8321|2010|\n",
            "| 99|  25673|   4612|2010|\n",
            "|100|  51007|   9506|2010|\n",
            "+---+-------+-------+----+\n",
            "\n"
          ]
        }
      ]
    },
    {
      "cell_type": "markdown",
      "source": [
        "# Transformation"
      ],
      "metadata": {
        "id": "DVsmntWbsxeS"
      }
    },
    {
      "cell_type": "code",
      "source": [
        "seniors = census_df[census_df['age'] > 54]\n",
        "seniors.count()"
      ],
      "metadata": {
        "id": "HdKluxf5km8B",
        "colab": {
          "base_uri": "https://localhost:8080/"
        },
        "outputId": "1092315c-afdc-41e9-870d-11a7dee9f476"
      },
      "execution_count": null,
      "outputs": [
        {
          "output_type": "execute_result",
          "data": {
            "text/plain": [
              "46"
            ]
          },
          "metadata": {},
          "execution_count": 60
        }
      ]
    },
    {
      "cell_type": "code",
      "source": [
        "seniors.show(5)"
      ],
      "metadata": {
        "id": "9kyB4A6BlaBW",
        "colab": {
          "base_uri": "https://localhost:8080/"
        },
        "outputId": "2a225ff3-f06a-4b1b-c039-0b500d921512"
      },
      "execution_count": null,
      "outputs": [
        {
          "output_type": "stream",
          "name": "stdout",
          "text": [
            "+---+-------+-------+----+\n",
            "|age|females|  males|year|\n",
            "+---+-------+-------+----+\n",
            "| 55|2167706|2059204|2010|\n",
            "| 56|2106460|1989505|2010|\n",
            "| 57|2048896|1924113|2010|\n",
            "| 58|2001049|1869486|2010|\n",
            "| 59|1957350|1819943|2010|\n",
            "+---+-------+-------+----+\n",
            "only showing top 5 rows\n",
            "\n"
          ]
        }
      ]
    },
    {
      "cell_type": "code",
      "source": [
        "from pyspark.sql.functions import lit\n",
        "\n",
        "seniors_final = seniors.withColumn('total', lit(seniors.males + seniors.females))\n",
        "seniors_final.show(10)"
      ],
      "metadata": {
        "colab": {
          "base_uri": "https://localhost:8080/"
        },
        "id": "XPJcYs9N42MM",
        "outputId": "c1d9a8ff-2cf8-472e-b390-a172e473da1e"
      },
      "execution_count": null,
      "outputs": [
        {
          "output_type": "stream",
          "name": "stdout",
          "text": [
            "+---+-------+-------+----+-------+\n",
            "|age|females|  males|year|  total|\n",
            "+---+-------+-------+----+-------+\n",
            "| 55|2167706|2059204|2010|4226910|\n",
            "| 56|2106460|1989505|2010|4095965|\n",
            "| 57|2048896|1924113|2010|3973009|\n",
            "| 58|2001049|1869486|2010|3870535|\n",
            "| 59|1957350|1819943|2010|3777293|\n",
            "| 60|1908602|1765522|2010|3674124|\n",
            "| 61|1859542|1710843|2010|3570385|\n",
            "| 62|1794846|1642438|2010|3437284|\n",
            "| 63|1706899|1553454|2010|3260353|\n",
            "| 64|1604801|1452106|2010|3056907|\n",
            "+---+-------+-------+----+-------+\n",
            "only showing top 10 rows\n",
            "\n"
          ]
        }
      ]
    },
    {
      "cell_type": "markdown",
      "source": [
        "# Load data to target"
      ],
      "metadata": {
        "id": "p2AQHWLVs0ug"
      }
    },
    {
      "cell_type": "code",
      "source": [
        "seniors_final\\\n",
        " .write\\\n",
        " .format(\"jdbc\")\\\n",
        " .option(\"driver\", \"com.mysql.jdbc.Driver\")\\\n",
        " .mode(\"overwrite\")\\\n",
        " .option(\"url\", \"jdbc:mysql://localhost/testdb\")\\\n",
        " .option(\"dbtable\", \"seniors\")\\\n",
        " .option(\"user\", \"root\")\\\n",
        " .option(\"password\", \"root_password\")\\\n",
        " .save()"
      ],
      "metadata": {
        "id": "4LHREZ425FL2"
      },
      "execution_count": null,
      "outputs": []
    }
  ]
}